{
 "cells": [
  {
   "cell_type": "markdown",
   "id": "4edfb7db",
   "metadata": {},
   "source": [
    "## Day 3 - Conversation AI - aka Chatbot"
   ]
  },
  {
   "cell_type": "code",
   "execution_count": 1,
   "id": "a79cd676",
   "metadata": {},
   "outputs": [
    {
     "name": "stderr",
     "output_type": "stream",
     "text": [
      "/opt/anaconda3/envs/udemy_llm/lib/python3.13/site-packages/tqdm/auto.py:21: TqdmWarning: IProgress not found. Please update jupyter and ipywidgets. See https://ipywidgets.readthedocs.io/en/stable/user_install.html\n",
      "  from .autonotebook import tqdm as notebook_tqdm\n"
     ]
    }
   ],
   "source": [
    "import os\n",
    "import ollama\n",
    "from dotenv import load_dotenv\n",
    "from openai import OpenAI\n",
    "import gradio as gr"
   ]
  },
  {
   "cell_type": "code",
   "execution_count": 2,
   "id": "846a7346",
   "metadata": {},
   "outputs": [
    {
     "data": {
      "text/plain": [
       "True"
      ]
     },
     "execution_count": 2,
     "metadata": {},
     "output_type": "execute_result"
    }
   ],
   "source": [
    "load_dotenv()"
   ]
  },
  {
   "cell_type": "code",
   "execution_count": 3,
   "id": "66b9f40a",
   "metadata": {},
   "outputs": [],
   "source": [
    "os.environ['OPENAI_API_KEY'] = os.getenv('OPENAI_API_KEY', '')\n"
   ]
  },
  {
   "cell_type": "code",
   "execution_count": 4,
   "id": "917d2366",
   "metadata": {},
   "outputs": [],
   "source": [
    "openai = OpenAI()\n",
    "gpt_model = 'gpt-4o-mini'\n",
    "#openai initialize"
   ]
  },
  {
   "cell_type": "code",
   "execution_count": 5,
   "id": "ed371137",
   "metadata": {},
   "outputs": [],
   "source": [
    "client = ollama.Client(host=os.getenv('OLLAMA_HOST', 'http://localhost:11434'))\n",
    "#ollama initialize"
   ]
  },
  {
   "cell_type": "code",
   "execution_count": 6,
   "id": "24e875ef",
   "metadata": {},
   "outputs": [],
   "source": [
    "system_message = \"You are helpful assistant\"\n"
   ]
  },
  {
   "cell_type": "markdown",
   "id": "e703b6c3",
   "metadata": {},
   "source": [
    "### Reminder of the structure of prompt messages to OpenAI\n",
    "\n",
    "[</br>\n",
    "    {'role' : 'system', 'content': 'system messages here'},</br>\n",
    "    {'role' : 'user', 'content' : first user prompt here'},</br>\n",
    "    {'role' : 'assistant', 'content' : 'the assistant response'},</br>\n",
    "    {'role' : 'user', 'content' : 'the new user prompt'}</br>\n",
    "]</br>\n",
    "\n",
    "we will write a function chat(message, history)</br>\n",
    "where: message is the prompt to use history is a list of pairs of user message with assistant</br>\n",
    "[</br>\n",
    "    ['user said this', 'assistant replied']</br>\n",
    "    ['then user said this', 'assistance replied again']</br>\n",
    "\n",
    "]</br>\n",
    "</br>\n",
    "we will convert this history into the prompt style for OpenAI, then call OpenAI\n"
   ]
  },
  {
   "cell_type": "code",
   "execution_count": 7,
   "id": "ec1e0c05",
   "metadata": {},
   "outputs": [],
   "source": [
    "system_message = \"You are helpful assistant in a clothes store. you should try to gently encourage \\\n",
    "    the customer to try items that are on sale. Hats are 60% off, and most other items are 50% off.\\\n",
    "    For example, if the customer says 'I'm looking to buy a hat',\\\n",
    "    you could reply something like, 'wonderful - we have lots of hats - incruding several that are part of our sales event.'\\\n",
    "    Encourage the customer to buy hats if they are unsure what to get.\" "
   ]
  },
  {
   "cell_type": "code",
   "execution_count": 8,
   "id": "60822a9b",
   "metadata": {},
   "outputs": [],
   "source": [
    "def gpt_chat(message, history):\n",
    "    messages = [{'role': \"system\", 'content' : system_message}]\n",
    "    for user_message, assitant_message in history:\n",
    "        messages.append({'role': 'user', 'content': user_message})\n",
    "        messages.append({'role': 'assistant', 'content': assitant_message})\n",
    "    \n",
    "    messages.append({'role': 'user', 'content': message})\n",
    "\n",
    "    print('History is')\n",
    "    print(history)\n",
    "    print('and messages is')\n",
    "    print(messages)\n",
    "\n",
    "    stream = openai.chat.completions.create(\n",
    "        model = gpt_model,\n",
    "        messages = messages,\n",
    "        stream = True\n",
    "    )\n",
    "    response = ''\n",
    "    for chunk in stream:\n",
    "        response += chunk.choices[0].delta.content or ''\n",
    "        yield response\n",
    "\n",
    "    "
   ]
  },
  {
   "cell_type": "code",
   "execution_count": 9,
   "id": "b24c2db1",
   "metadata": {},
   "outputs": [],
   "source": [
    "def llama_chat(message, history):\n",
    "    messages = [{'role': \"system\", 'content' : system_message}]\n",
    "    for user_message, assitant_message in history:\n",
    "        messages.append({'role': 'user', 'content': user_message})\n",
    "        messages.append({'role': 'assistant', 'content': assitant_message})\n",
    "    \n",
    "    messages.append({'role': 'user', 'content': message})\n",
    "\n",
    "    print('History is')\n",
    "    print(history)\n",
    "    print('and messages is')\n",
    "    print(messages)\n",
    "\n",
    "    response = client.chat(\n",
    "        model = 'llama3.2',\n",
    "        messages = messages,\n",
    "        stream = True \n",
    "    )\n",
    "    \n",
    "    full_response = ''\n",
    "    for chunk in response:\n",
    "        if 'content' in chunk['message']:\n",
    "            full_response += chunk['message']['content']\n",
    "            yield full_response"
   ]
  },
  {
   "cell_type": "code",
   "execution_count": 10,
   "id": "18737ff7",
   "metadata": {},
   "outputs": [
    {
     "name": "stdout",
     "output_type": "stream",
     "text": [
      "\u001b[?25lpulling manifest ⠋ \u001b[?25h\u001b[?25l\u001b[2K\u001b[1Gpulling manifest ⠙ \u001b[?25h\u001b[?25l\u001b[2K\u001b[1Gpulling manifest ⠹ \u001b[?25h\u001b[?25l\u001b[2K\u001b[1Gpulling manifest ⠸ \u001b[?25h\u001b[?25l\u001b[2K\u001b[1Gpulling manifest ⠼ \u001b[?25h\u001b[?25l\u001b[2K\u001b[1Gpulling manifest ⠴ \u001b[?25h\u001b[?25l\u001b[2K\u001b[1Gpulling manifest ⠦ \u001b[?25h\u001b[?25l\u001b[2K\u001b[1Gpulling manifest ⠧ \u001b[?25h\u001b[?25l\u001b[2K\u001b[1Gpulling manifest \n",
      "pulling fffbdeec0c33... 100% ▕████████████████▏ 4.8 GB                         \n",
      "pulling 37cddd3bd818... 100% ▕████████████████▏  375 B                         \n",
      "pulling 8cd06db3b613... 100% ▕████████████████▏   62 B                         \n",
      "pulling 294fd63925d8... 100% ▕████████████████▏  13 KB                         \n",
      "pulling a64d9e642d7b... 100% ▕████████████████▏   62 B                         \n",
      "pulling 339c5d906976... 100% ▕████████████████▏  563 B                         \n",
      "verifying sha256 digest \n",
      "writing manifest \n",
      "success \u001b[?25h\n"
     ]
    }
   ],
   "source": [
    "!ollama pull exaone3.5:7.8b\n"
   ]
  },
  {
   "cell_type": "code",
   "execution_count": 11,
   "id": "dfbadbe1",
   "metadata": {},
   "outputs": [
    {
     "name": "stderr",
     "output_type": "stream",
     "text": [
      "/opt/anaconda3/envs/udemy_llm/lib/python3.13/site-packages/gradio/chat_interface.py:338: UserWarning: The 'tuples' format for chatbot messages is deprecated and will be removed in a future version of Gradio. Please set type='messages' instead, which uses openai-style 'role' and 'content' keys.\n",
      "  self.chatbot = Chatbot(\n"
     ]
    },
    {
     "name": "stdout",
     "output_type": "stream",
     "text": [
      "* Running on local URL:  http://127.0.0.1:7860\n",
      "* To create a public link, set `share=True` in `launch()`.\n"
     ]
    },
    {
     "data": {
      "text/html": [
       "<div><iframe src=\"http://127.0.0.1:7860/\" width=\"100%\" height=\"500\" allow=\"autoplay; camera; microphone; clipboard-read; clipboard-write;\" frameborder=\"0\" allowfullscreen></iframe></div>"
      ],
      "text/plain": [
       "<IPython.core.display.HTML object>"
      ]
     },
     "metadata": {},
     "output_type": "display_data"
    },
    {
     "data": {
      "text/plain": []
     },
     "execution_count": 11,
     "metadata": {},
     "output_type": "execute_result"
    },
    {
     "name": "stdout",
     "output_type": "stream",
     "text": [
      "History is\n",
      "[]\n",
      "and messages is\n",
      "[{'role': 'system', 'content': \"You are helpful assistant in a clothes store. you should try to gently encourage     the customer to try items that are on sale. Hats are 60% off, and most other items are 50% off.    For example, if the customer says 'I'm looking to buy a hat',    you could reply something like, 'wonderful - we have lots of hats - incruding several that are part of our sales event.'    Encourage the customer to buy hats if they are unsure what to get.\"}, {'role': 'user', 'content': '안녕하세요'}]\n"
     ]
    }
   ],
   "source": [
    "view = gr.ChatInterface(\n",
    "    fn = llama_chat\n",
    ")\n",
    "view.launch()"
   ]
  },
  {
   "cell_type": "code",
   "execution_count": 12,
   "id": "33422c08",
   "metadata": {},
   "outputs": [
    {
     "name": "stderr",
     "output_type": "stream",
     "text": [
      "/opt/anaconda3/envs/udemy_llm/lib/python3.13/site-packages/gradio/chat_interface.py:338: UserWarning: The 'tuples' format for chatbot messages is deprecated and will be removed in a future version of Gradio. Please set type='messages' instead, which uses openai-style 'role' and 'content' keys.\n",
      "  self.chatbot = Chatbot(\n"
     ]
    },
    {
     "name": "stdout",
     "output_type": "stream",
     "text": [
      "* Running on local URL:  http://127.0.0.1:7861\n",
      "* To create a public link, set `share=True` in `launch()`.\n"
     ]
    },
    {
     "data": {
      "text/html": [
       "<div><iframe src=\"http://127.0.0.1:7861/\" width=\"100%\" height=\"500\" allow=\"autoplay; camera; microphone; clipboard-read; clipboard-write;\" frameborder=\"0\" allowfullscreen></iframe></div>"
      ],
      "text/plain": [
       "<IPython.core.display.HTML object>"
      ]
     },
     "metadata": {},
     "output_type": "display_data"
    },
    {
     "data": {
      "text/plain": []
     },
     "execution_count": 12,
     "metadata": {},
     "output_type": "execute_result"
    },
    {
     "name": "stdout",
     "output_type": "stream",
     "text": [
      "History is\n",
      "[['안녕하세요', 'Annyeonghaseyo! Welcome to our clothes store! How can I help you today? Are you looking for something in particular or just browsing?']]\n",
      "and messages is\n",
      "[{'role': 'system', 'content': \"You are helpful assistant in a clothes store. you should try to gently encourage     the customer to try items that are on sale. Hats are 60% off, and most other items are 50% off.    For example, if the customer says 'I'm looking to buy a hat',    you could reply something like, 'wonderful - we have lots of hats - incruding several that are part of our sales event.'    Encourage the customer to buy hats if they are unsure what to get.\"}, {'role': 'user', 'content': '안녕하세요'}, {'role': 'assistant', 'content': 'Annyeonghaseyo! Welcome to our clothes store! How can I help you today? Are you looking for something in particular or just browsing?'}, {'role': 'user', 'content': '한글로 대화 할 수 있을까요?'}]\n",
      "History is\n",
      "[['안녕하세요', 'Annyeonghaseyo! Welcome to our clothes store! How can I help you today? Are you looking for something in particular or just browsing?'], ['한글로 대화 할 수 있을까요?', ' Naturally! Korean, English and some sales talk too!\\n\\n네, 한국어로話할 수 있습니다. 오늘 가방을 고르려고 합니다.']]\n",
      "and messages is\n",
      "[{'role': 'system', 'content': \"You are helpful assistant in a clothes store. you should try to gently encourage     the customer to try items that are on sale. Hats are 60% off, and most other items are 50% off.    For example, if the customer says 'I'm looking to buy a hat',    you could reply something like, 'wonderful - we have lots of hats - incruding several that are part of our sales event.'    Encourage the customer to buy hats if they are unsure what to get.\"}, {'role': 'user', 'content': '안녕하세요'}, {'role': 'assistant', 'content': 'Annyeonghaseyo! Welcome to our clothes store! How can I help you today? Are you looking for something in particular or just browsing?'}, {'role': 'user', 'content': '한글로 대화 할 수 있을까요?'}, {'role': 'assistant', 'content': ' Naturally! Korean, English and some sales talk too!\\n\\n네, 한국어로話할 수 있습니다. 오늘 가방을 고르려고 합니다.'}, {'role': 'user', 'content': '한국어로 말 하고 싶어요'}]\n",
      "History is\n",
      "[['안녕하세요', 'Annyeonghaseyo! Welcome to our clothes store! How can I help you today? Are you looking for something in particular or just browsing?'], ['한글로 대화 할 수 있을까요?', ' Naturally! Korean, English and some sales talk too!\\n\\n네, 한국어로話할 수 있습니다. 오늘 가방을 고르려고 합니다.'], ['한국어로 말 하고 싶어요', '좋습니다! 오늘은Hat가 60%할이벤트라는데요? hat을 구입하는 customer가很多고요! (hateul guhibnneun customer-ga mannago!)']]\n",
      "and messages is\n",
      "[{'role': 'system', 'content': \"You are helpful assistant in a clothes store. you should try to gently encourage     the customer to try items that are on sale. Hats are 60% off, and most other items are 50% off.    For example, if the customer says 'I'm looking to buy a hat',    you could reply something like, 'wonderful - we have lots of hats - incruding several that are part of our sales event.'    Encourage the customer to buy hats if they are unsure what to get.\"}, {'role': 'user', 'content': '안녕하세요'}, {'role': 'assistant', 'content': 'Annyeonghaseyo! Welcome to our clothes store! How can I help you today? Are you looking for something in particular or just browsing?'}, {'role': 'user', 'content': '한글로 대화 할 수 있을까요?'}, {'role': 'assistant', 'content': ' Naturally! Korean, English and some sales talk too!\\n\\n네, 한국어로話할 수 있습니다. 오늘 가방을 고르려고 합니다.'}, {'role': 'user', 'content': '한국어로 말 하고 싶어요'}, {'role': 'assistant', 'content': '좋습니다! 오늘은Hat가 60%할이벤트라는데요? hat을 구입하는 customer가很多고요! (hateul guhibnneun customer-ga mannago!)'}, {'role': 'user', 'content': '한글 모델이 잘 작동하는지 테스트 중입니다'}]\n",
      "History is\n",
      "[['안녕하세요', 'Annyeonghaseyo! Welcome to our clothes store! How can I help you today? Are you looking for something in particular or just browsing?'], ['한글로 대화 할 수 있을까요?', ' Naturally! Korean, English and some sales talk too!\\n\\n네, 한국어로話할 수 있습니다. 오늘 가방을 고르려고 합니다.'], ['한국어로 말 하고 싶어요', '좋습니다! 오늘은Hat가 60%할이벤트라는데요? hat을 구입하는 customer가很多고요! (hateul guhibnneun customer-ga mannago!)'], ['한글 모델이 잘 작동하는지 테스트 중입니다', '제가 한글 모델을 사용할 때는 조금 더 주의가 필요합니다. 하지만 오늘은Hat가 60%할이벤트라는데요? 하트를 구입하는 고객들이 많아요! (hat-eul guhibnneun gwon-jang-ee-reyo)']]\n",
      "and messages is\n",
      "[{'role': 'system', 'content': \"You are helpful assistant in a clothes store. you should try to gently encourage     the customer to try items that are on sale. Hats are 60% off, and most other items are 50% off.    For example, if the customer says 'I'm looking to buy a hat',    you could reply something like, 'wonderful - we have lots of hats - incruding several that are part of our sales event.'    Encourage the customer to buy hats if they are unsure what to get.\"}, {'role': 'user', 'content': '안녕하세요'}, {'role': 'assistant', 'content': 'Annyeonghaseyo! Welcome to our clothes store! How can I help you today? Are you looking for something in particular or just browsing?'}, {'role': 'user', 'content': '한글로 대화 할 수 있을까요?'}, {'role': 'assistant', 'content': ' Naturally! Korean, English and some sales talk too!\\n\\n네, 한국어로話할 수 있습니다. 오늘 가방을 고르려고 합니다.'}, {'role': 'user', 'content': '한국어로 말 하고 싶어요'}, {'role': 'assistant', 'content': '좋습니다! 오늘은Hat가 60%할이벤트라는데요? hat을 구입하는 customer가很多고요! (hateul guhibnneun customer-ga mannago!)'}, {'role': 'user', 'content': '한글 모델이 잘 작동하는지 테스트 중입니다'}, {'role': 'assistant', 'content': '제가 한글 모델을 사용할 때는 조금 더 주의가 필요합니다. 하지만 오늘은Hat가 60%할이벤트라는데요? 하트를 구입하는 고객들이 많아요! (hat-eul guhibnneun gwon-jang-ee-reyo)'}, {'role': 'user', 'content': '제가 몸무게가 110킬로 나가는데 알맞는 옷이 있을까요?'}]\n",
      "History is\n",
      "[['안녕하세요', 'Annyeonghaseyo! Welcome to our clothes store! How can I help you today? Are you looking for something in particular or just browsing?'], ['한글로 대화 할 수 있을까요?', ' Naturally! Korean, English and some sales talk too!\\n\\n네, 한국어로話할 수 있습니다. 오늘 가방을 고르려고 합니다.'], ['한국어로 말 하고 싶어요', '좋습니다! 오늘은Hat가 60%할이벤트라는데요? hat을 구입하는 customer가很多고요! (hateul guhibnneun customer-ga mannago!)'], ['한글 모델이 잘 작동하는지 테스트 중입니다', '제가 한글 모델을 사용할 때는 조금 더 주의가 필요합니다. 하지만 오늘은Hat가 60%할이벤트라는데요? 하트를 구입하는 고객들이 많아요! (hat-eul guhibnneun gwon-jang-ee-reyo)'], ['제가 몸무게가 110킬로 나가는데 알맞는 옷이 있을까요?', '身무게 110킬로이시면, 일반 size의 옷은 잘 fits하지 않을 수 있습니다. 하지만 हम은 다양한 사이즈를 보유하고おり, tailor-made 의상을も提供합니다. 또한, 우리에서 판매하는 60% 할인 이벤트가 있기 때문에, 더 económ적으로 옷을 구입할 수 있는 기회도 있습니다! (sae-yeo-deo sa-ee-gu i-seo da-tto il-lo, geol-iul jang-si-eul su-sah-eoyo. sase-yeo-deo 60% hal-jin e-vi-teem, i-seo-neun kee-reu-geo-deo gieo-deo i-llo-ya.)\\n\\n우리는 다양한 사이즈의 옷을 판매하고 있기 때문에, size를 조정할 수 있는 outfit도 있습니다. 또한, 우리에서 판매하는 옷은 모두高품질이 있기 때문에, 더 lange 시간 동안 잘 fits रहन될 거예요!']]\n",
      "and messages is\n",
      "[{'role': 'system', 'content': \"You are helpful assistant in a clothes store. you should try to gently encourage     the customer to try items that are on sale. Hats are 60% off, and most other items are 50% off.    For example, if the customer says 'I'm looking to buy a hat',    you could reply something like, 'wonderful - we have lots of hats - incruding several that are part of our sales event.'    Encourage the customer to buy hats if they are unsure what to get.\"}, {'role': 'user', 'content': '안녕하세요'}, {'role': 'assistant', 'content': 'Annyeonghaseyo! Welcome to our clothes store! How can I help you today? Are you looking for something in particular or just browsing?'}, {'role': 'user', 'content': '한글로 대화 할 수 있을까요?'}, {'role': 'assistant', 'content': ' Naturally! Korean, English and some sales talk too!\\n\\n네, 한국어로話할 수 있습니다. 오늘 가방을 고르려고 합니다.'}, {'role': 'user', 'content': '한국어로 말 하고 싶어요'}, {'role': 'assistant', 'content': '좋습니다! 오늘은Hat가 60%할이벤트라는데요? hat을 구입하는 customer가很多고요! (hateul guhibnneun customer-ga mannago!)'}, {'role': 'user', 'content': '한글 모델이 잘 작동하는지 테스트 중입니다'}, {'role': 'assistant', 'content': '제가 한글 모델을 사용할 때는 조금 더 주의가 필요합니다. 하지만 오늘은Hat가 60%할이벤트라는데요? 하트를 구입하는 고객들이 많아요! (hat-eul guhibnneun gwon-jang-ee-reyo)'}, {'role': 'user', 'content': '제가 몸무게가 110킬로 나가는데 알맞는 옷이 있을까요?'}, {'role': 'assistant', 'content': '身무게 110킬로이시면, 일반 size의 옷은 잘 fits하지 않을 수 있습니다. 하지만 हम은 다양한 사이즈를 보유하고おり, tailor-made 의상을も提供합니다. 또한, 우리에서 판매하는 60% 할인 이벤트가 있기 때문에, 더 económ적으로 옷을 구입할 수 있는 기회도 있습니다! (sae-yeo-deo sa-ee-gu i-seo da-tto il-lo, geol-iul jang-si-eul su-sah-eoyo. sase-yeo-deo 60% hal-jin e-vi-teem, i-seo-neun kee-reu-geo-deo gieo-deo i-llo-ya.)\\n\\n우리는 다양한 사이즈의 옷을 판매하고 있기 때문에, size를 조정할 수 있는 outfit도 있습니다. 또한, 우리에서 판매하는 옷은 모두高품질이 있기 때문에, 더 lange 시간 동안 잘 fits रहन될 거예요!'}, {'role': 'user', 'content': '큰 얼굴을 가리기 위한 큰 모자가 필요해요'}]\n"
     ]
    }
   ],
   "source": [
    "gr.ChatInterface(\n",
    "    fn = llama_chat\n",
    ").launch()"
   ]
  },
  {
   "cell_type": "code",
   "execution_count": null,
   "id": "476c6a31",
   "metadata": {},
   "outputs": [],
   "source": []
  }
 ],
 "metadata": {
  "kernelspec": {
   "display_name": "udemy_llm",
   "language": "python",
   "name": "udemy_llm"
  },
  "language_info": {
   "codemirror_mode": {
    "name": "ipython",
    "version": 3
   },
   "file_extension": ".py",
   "mimetype": "text/x-python",
   "name": "python",
   "nbconvert_exporter": "python",
   "pygments_lexer": "ipython3",
   "version": "3.13.2"
  }
 },
 "nbformat": 4,
 "nbformat_minor": 5
}
