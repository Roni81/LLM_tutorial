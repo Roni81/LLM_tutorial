{
 "cells": [
  {
   "cell_type": "markdown",
   "id": "4edfb7db",
   "metadata": {},
   "source": [
    "## Day 3 - Conversation AI - aka Chatbot"
   ]
  },
  {
   "cell_type": "code",
   "execution_count": 1,
   "id": "a79cd676",
   "metadata": {},
   "outputs": [
    {
     "name": "stderr",
     "output_type": "stream",
     "text": [
      "/opt/anaconda3/envs/udemy_llm/lib/python3.13/site-packages/tqdm/auto.py:21: TqdmWarning: IProgress not found. Please update jupyter and ipywidgets. See https://ipywidgets.readthedocs.io/en/stable/user_install.html\n",
      "  from .autonotebook import tqdm as notebook_tqdm\n"
     ]
    }
   ],
   "source": [
    "import os\n",
    "import ollama\n",
    "from dotenv import load_dotenv\n",
    "from openai import OpenAI\n",
    "import gradio as gr"
   ]
  },
  {
   "cell_type": "code",
   "execution_count": 2,
   "id": "846a7346",
   "metadata": {},
   "outputs": [
    {
     "data": {
      "text/plain": [
       "True"
      ]
     },
     "execution_count": 2,
     "metadata": {},
     "output_type": "execute_result"
    }
   ],
   "source": [
    "load_dotenv()"
   ]
  },
  {
   "cell_type": "code",
   "execution_count": 4,
   "id": "66b9f40a",
   "metadata": {},
   "outputs": [],
   "source": [
    "os.environ['OPENAI_API_KEY'] = os.getenv('OPENAI_API_KEY', '')\n",
    "client = ollama.Client(host=os.getenv('OLLAMA_HOST', 'http://localhost:11434'))"
   ]
  },
  {
   "cell_type": "code",
   "execution_count": 7,
   "id": "917d2366",
   "metadata": {},
   "outputs": [],
   "source": [
    "openai = OpenAI()\n",
    "gpt_model = 'gpt-4o-mini'"
   ]
  },
  {
   "cell_type": "code",
   "execution_count": 8,
   "id": "24e875ef",
   "metadata": {},
   "outputs": [],
   "source": [
    "system_message = \"You are helpful assistant\"\n"
   ]
  },
  {
   "cell_type": "markdown",
   "id": "e703b6c3",
   "metadata": {},
   "source": [
    "### Reminder of the structure of prompt messages to OpenAI\n",
    "\n",
    "[</br>\n",
    "    {'role' : 'system', 'content': 'system messages here'},</br>\n",
    "    {'role' : 'user', 'content' : first user prompt here'},</br>\n",
    "    {'role' : 'assistant', 'content' : 'the assistant response'},</br>\n",
    "    {'role' : 'user', 'content' : 'the new user prompt'}</br>\n",
    "]</br>\n",
    "\n",
    "we will write a function chat(message, history)</br>\n",
    "where: message is the prompt to use history is a list of pairs of user message with assistant</br>\n",
    "[</br>\n",
    "    ['user said this', 'assistant replied']</br>\n",
    "    ['then user said this', 'assistance replied again']</br>\n",
    "\n",
    "]</br>\n",
    "</br>\n",
    "we will convert this history into the prompt style for OpenAI, then call OpenAI\n"
   ]
  },
  {
   "cell_type": "code",
   "execution_count": null,
   "id": "60822a9b",
   "metadata": {},
   "outputs": [],
   "source": [
    "def gpt_chat(message, history):\n",
    "    messages = [{'role': \"system\", 'content' : system_message}]\n",
    "    for user_message, assitant_message in history:\n",
    "        messages.append({'role': 'user', 'content': user_message})\n",
    "        messages.append({'role': 'assistant', 'content': assitant_message})\n",
    "    \n",
    "    messages.append({'role': 'user', 'content': message})\n",
    "\n",
    "    print('History is')\n",
    "    print(history)\n",
    "    print('and messages is')\n",
    "    print(messages)\n",
    "\n",
    "    stream = openai.chat.completions.create(\n",
    "        model = gpt_model,\n",
    "        messages = messages,\n",
    "        stream = True\n",
    "    )\n",
    "    response = ''\n",
    "    for chunk in stream:\n",
    "        response += chunk.choices[0].delta.content or ''\n",
    "        yield response\n",
    "\n",
    "    "
   ]
  },
  {
   "cell_type": "code",
   "execution_count": 18,
   "id": "b24c2db1",
   "metadata": {},
   "outputs": [],
   "source": [
    "def llama_chat(message, history):\n",
    "    messages = [{'role': \"system\", 'content' : system_message}]\n",
    "    for user_message, assitant_message in history:\n",
    "        messages.append({'role': 'user', 'content': user_message})\n",
    "        messages.append({'role': 'assistant', 'content': assitant_message})\n",
    "    \n",
    "    messages.append({'role': 'user', 'content': message})\n",
    "\n",
    "    print('History is')\n",
    "    print(history)\n",
    "    print('and messages is')\n",
    "    print(messages)\n",
    "\n",
    "    response = client.chat(\n",
    "        model = 'llama3.2',\n",
    "        messages = messages,\n",
    "        stream = True \n",
    "    )\n",
    "    \n",
    "    full_response = ''\n",
    "    for chunk in response:\n",
    "        if 'content' in chunk['message']:\n",
    "            full_response += chunk['message']['content']\n",
    "            yield full_response"
   ]
  },
  {
   "cell_type": "code",
   "execution_count": null,
   "id": "dfbadbe1",
   "metadata": {},
   "outputs": [
    {
     "name": "stderr",
     "output_type": "stream",
     "text": [
      "/opt/anaconda3/envs/udemy_llm/lib/python3.13/site-packages/gradio/chat_interface.py:338: UserWarning: The 'tuples' format for chatbot messages is deprecated and will be removed in a future version of Gradio. Please set type='messages' instead, which uses openai-style 'role' and 'content' keys.\n",
      "  self.chatbot = Chatbot(\n"
     ]
    },
    {
     "name": "stdout",
     "output_type": "stream",
     "text": [
      "* Running on local URL:  http://127.0.0.1:7864\n",
      "* To create a public link, set `share=True` in `launch()`.\n"
     ]
    },
    {
     "data": {
      "text/html": [
       "<div><iframe src=\"http://127.0.0.1:7864/\" width=\"100%\" height=\"500\" allow=\"autoplay; camera; microphone; clipboard-read; clipboard-write;\" frameborder=\"0\" allowfullscreen></iframe></div>"
      ],
      "text/plain": [
       "<IPython.core.display.HTML object>"
      ]
     },
     "metadata": {},
     "output_type": "display_data"
    },
    {
     "data": {
      "text/plain": []
     },
     "execution_count": 16,
     "metadata": {},
     "output_type": "execute_result"
    },
    {
     "name": "stdout",
     "output_type": "stream",
     "text": [
      "History is\n",
      "[]\n",
      "and messages is\n",
      "[{'role': 'system', 'content': 'You are helpful assistant'}, {'role': 'user', 'content': 'hello'}]\n",
      "History is\n",
      "[['hello', 'Hello! How can I assist you today?']]\n",
      "and messages is\n",
      "[{'role': 'system', 'content': 'You are helpful assistant'}, {'role': 'user', 'content': 'hello'}, {'role': 'assistant', 'content': 'Hello! How can I assist you today?'}, {'role': 'user', 'content': 'I want to buy a car for my famlity'}]\n",
      "History is\n",
      "[['hello', 'Hello! How can I assist you today?'], ['I want to buy a car for my famlity', \"That’s great! Buying a car for your family is an important decision. Here are some factors to consider when choosing a vehicle:\\n\\n1. **Budget**: What is your price range? Don’t forget to consider insurance, taxes, maintenance, and fuel costs.\\n\\n2. **Size and Capacity**: How many passengers do you need to accommodate? Consider if you need a compact car, sedan, SUV, or minivan.\\n\\n3. **Safety**: Look into the safety ratings and features of the car. Families often prioritize vehicles with good safety records.\\n\\n4. **Fuel Efficiency**: Consider how much driving you'll be doing and how important fuel efficiency is for your family.\\n\\n5. **Reliability**: Research brands and models known for their longevity and reliability.\\n\\n6. **Features**: Think about any specific features that are important to you, such as navigation, rear-seat entertainment, or good cargo space.\\n\\n7. **Test Drive**: Always test drive a vehicle to see how it feels and if it suits your family’s needs.\\n\\nIf you have any specific models in mind or particular requirements, I can help you narrow down your options!\"]]\n",
      "and messages is\n",
      "[{'role': 'system', 'content': 'You are helpful assistant'}, {'role': 'user', 'content': 'hello'}, {'role': 'assistant', 'content': 'Hello! How can I assist you today?'}, {'role': 'user', 'content': 'I want to buy a car for my famlity'}, {'role': 'assistant', 'content': \"That’s great! Buying a car for your family is an important decision. Here are some factors to consider when choosing a vehicle:\\n\\n1. **Budget**: What is your price range? Don’t forget to consider insurance, taxes, maintenance, and fuel costs.\\n\\n2. **Size and Capacity**: How many passengers do you need to accommodate? Consider if you need a compact car, sedan, SUV, or minivan.\\n\\n3. **Safety**: Look into the safety ratings and features of the car. Families often prioritize vehicles with good safety records.\\n\\n4. **Fuel Efficiency**: Consider how much driving you'll be doing and how important fuel efficiency is for your family.\\n\\n5. **Reliability**: Research brands and models known for their longevity and reliability.\\n\\n6. **Features**: Think about any specific features that are important to you, such as navigation, rear-seat entertainment, or good cargo space.\\n\\n7. **Test Drive**: Always test drive a vehicle to see how it feels and if it suits your family’s needs.\\n\\nIf you have any specific models in mind or particular requirements, I can help you narrow down your options!\"}, {'role': 'user', 'content': 'I have 200,000dollars  I have a girl and a wife so I prefer to buy compact SUV Safe is the most important'}]\n"
     ]
    }
   ],
   "source": [
    "gr.ChatInterface(\n",
    "    fn = gpt_chat\n",
    ").launch()"
   ]
  },
  {
   "cell_type": "code",
   "execution_count": null,
   "id": "33422c08",
   "metadata": {},
   "outputs": [
    {
     "name": "stderr",
     "output_type": "stream",
     "text": [
      "/opt/anaconda3/envs/udemy_llm/lib/python3.13/site-packages/gradio/chat_interface.py:338: UserWarning: The 'tuples' format for chatbot messages is deprecated and will be removed in a future version of Gradio. Please set type='messages' instead, which uses openai-style 'role' and 'content' keys.\n",
      "  self.chatbot = Chatbot(\n"
     ]
    },
    {
     "name": "stdout",
     "output_type": "stream",
     "text": [
      "* Running on local URL:  http://127.0.0.1:7865\n",
      "* To create a public link, set `share=True` in `launch()`.\n"
     ]
    },
    {
     "data": {
      "text/html": [
       "<div><iframe src=\"http://127.0.0.1:7865/\" width=\"100%\" height=\"500\" allow=\"autoplay; camera; microphone; clipboard-read; clipboard-write;\" frameborder=\"0\" allowfullscreen></iframe></div>"
      ],
      "text/plain": [
       "<IPython.core.display.HTML object>"
      ]
     },
     "metadata": {},
     "output_type": "display_data"
    },
    {
     "data": {
      "text/plain": []
     },
     "execution_count": 19,
     "metadata": {},
     "output_type": "execute_result"
    },
    {
     "name": "stdout",
     "output_type": "stream",
     "text": [
      "History is\n",
      "[]\n",
      "and messages is\n",
      "[{'role': 'system', 'content': 'You are helpful assistant'}, {'role': 'user', 'content': 'hello'}]\n",
      "History is\n",
      "[['hello', \"Hello! It's nice to meet you. Is there something I can help you with or would you like to chat?\"]]\n",
      "and messages is\n",
      "[{'role': 'system', 'content': 'You are helpful assistant'}, {'role': 'user', 'content': 'hello'}, {'role': 'assistant', 'content': \"Hello! It's nice to meet you. Is there something I can help you with or would you like to chat?\"}, {'role': 'user', 'content': 'I want to see a good sight, can you recommand it in Newyork'}]\n"
     ]
    }
   ],
   "source": [
    "gr.ChatInterface(\n",
    "    fn = llama_chat\n",
    ").launch()"
   ]
  },
  {
   "cell_type": "code",
   "execution_count": null,
   "id": "476c6a31",
   "metadata": {},
   "outputs": [],
   "source": []
  }
 ],
 "metadata": {
  "kernelspec": {
   "display_name": "udemy_llm",
   "language": "python",
   "name": "python3"
  },
  "language_info": {
   "codemirror_mode": {
    "name": "ipython",
    "version": 3
   },
   "file_extension": ".py",
   "mimetype": "text/x-python",
   "name": "python",
   "nbconvert_exporter": "python",
   "pygments_lexer": "ipython3",
   "version": "3.13.2"
  }
 },
 "nbformat": 4,
 "nbformat_minor": 5
}
