{
 "cells": [
  {
   "cell_type": "markdown",
   "id": "9906d5b9",
   "metadata": {},
   "source": [
    "## Also - adding DeepSeek if you wish\n",
    "Optionally, if you'd like to also use DeepSeek, create an account here, create a key here and top up with at least the minimum $2 here.\n",
    "\n",
    "## Adding API keys to your .env file\n",
    "When you get your API keys, you need to set them as environment variables by adding them to your .env file.\n",
    "\n",
    " - OPENAI_API_KEY=xxxx\n",
    " - ANTHROPIC_API_KEY=xxxx\n",
    " - GOOGLE_API_KEY=xxxx\n",
    " - DEEPSEEK_API_KEY=xxxx\n",
    "\n",
    "Afterwards, you may need to restart the Jupyter Lab Kernel (the Python process that sits behind this notebook) via the Kernel menu, and then rerun the cells from the top."
   ]
  },
  {
   "cell_type": "code",
   "execution_count": 1,
   "id": "15ee65c3",
   "metadata": {},
   "outputs": [],
   "source": [
    "# importing\n",
    "\n",
    "import os\n",
    "from dotenv import load_dotenv\n",
    "from openai import OpenAI\n",
    "import openai\n",
    "from IPython.display import Markdown, display, update_display"
   ]
  },
  {
   "cell_type": "code",
   "execution_count": null,
   "id": "042d52cb",
   "metadata": {},
   "outputs": [],
   "source": []
  }
 ],
 "metadata": {
  "kernelspec": {
   "display_name": "udemy_llm",
   "language": "python",
   "name": "python3"
  },
  "language_info": {
   "codemirror_mode": {
    "name": "ipython",
    "version": 3
   },
   "file_extension": ".py",
   "mimetype": "text/x-python",
   "name": "python",
   "nbconvert_exporter": "python",
   "pygments_lexer": "ipython3",
   "version": "3.13.2"
  }
 },
 "nbformat": 4,
 "nbformat_minor": 5
}
