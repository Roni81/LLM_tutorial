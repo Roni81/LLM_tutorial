{
 "cells": [
  {
   "cell_type": "code",
   "execution_count": 34,
   "id": "96a42b2f",
   "metadata": {},
   "outputs": [],
   "source": [
    "import os\n",
    "import json\n",
    "from dotenv import load_dotenv\n",
    "from openai import OpenAI\n",
    "import gradio as gr\n"
   ]
  },
  {
   "cell_type": "code",
   "execution_count": null,
   "id": "6c9a68f5",
   "metadata": {},
   "outputs": [],
   "source": [
    "\n",
    "load_dotenv()\n",
    "openai_api_key = os.getenv(\"OPENAI_API_KEY\")\n",
    "\n",
    "gpt_model = \"gpt-4o-mini\"\n",
    "client = OpenAI()"
   ]
  },
  {
   "cell_type": "code",
   "execution_count": 36,
   "id": "f047a4c9",
   "metadata": {},
   "outputs": [],
   "source": [
    "system_message = 'you are helpful assistant for airline called flieghtAI'\n",
    "system_message += 'give short courtouse answer, no more than 1 sentence'\n",
    "system_message += \"always be accurate If you don't know the answer, say so\"\n"
   ]
  },
  {
   "cell_type": "code",
   "execution_count": 37,
   "id": "00d65295",
   "metadata": {},
   "outputs": [],
   "source": [
    "def chat(message, history):\n",
    "    messages = [{'role': 'system', 'content' : system_message}]\n",
    "    for human, assistant in history:\n",
    "        messages.append({'role':'user', 'content': human})\n",
    "        messages.append({'role':'assistant', 'content': assistant})\n",
    "\n",
    "    messages.append({'role':'user', 'content': message})\n",
    "\n",
    "    response = client.chat.completions.create(\n",
    "        model = gpt_model,\n",
    "        messages = messages\n",
    "        )\n",
    "\n",
    "\n",
    "\n",
    "    return response.choices[0].message.content"
   ]
  },
  {
   "cell_type": "code",
   "execution_count": 38,
   "id": "ad2bc05a",
   "metadata": {},
   "outputs": [
    {
     "name": "stderr",
     "output_type": "stream",
     "text": [
      "/opt/anaconda3/envs/udemy_llm/lib/python3.13/site-packages/gradio/chat_interface.py:338: UserWarning: The 'tuples' format for chatbot messages is deprecated and will be removed in a future version of Gradio. Please set type='messages' instead, which uses openai-style 'role' and 'content' keys.\n",
      "  self.chatbot = Chatbot(\n"
     ]
    },
    {
     "name": "stdout",
     "output_type": "stream",
     "text": [
      "* Running on local URL:  http://127.0.0.1:7870\n",
      "* To create a public link, set `share=True` in `launch()`.\n"
     ]
    },
    {
     "data": {
      "text/html": [
       "<div><iframe src=\"http://127.0.0.1:7870/\" width=\"100%\" height=\"500\" allow=\"autoplay; camera; microphone; clipboard-read; clipboard-write;\" frameborder=\"0\" allowfullscreen></iframe></div>"
      ],
      "text/plain": [
       "<IPython.core.display.HTML object>"
      ]
     },
     "metadata": {},
     "output_type": "display_data"
    },
    {
     "data": {
      "text/plain": []
     },
     "execution_count": 38,
     "metadata": {},
     "output_type": "execute_result"
    }
   ],
   "source": [
    "gr.ChatInterface(fn = chat).launch()"
   ]
  },
  {
   "cell_type": "code",
   "execution_count": null,
   "id": "1437aced",
   "metadata": {},
   "outputs": [],
   "source": [
    "ticket_prices = {'london': '$799', \"paris\": \"$899\", \"tokyo\": \"$1399\", 'beijing': '$1599'}\n",
    "# 챗봇이 조회할 수 있는 정보가 저장된 간단한 데이터베이스 역할을 합니다.\n",
    "# 실제 어플리케이션에서는 이부분이 DB쿼리 외부 API 호출등으로 대체 될 수 있음\n",
    "\n",
    "def get_ticket_price(destination_city):\n",
    "    print(f\"Tool get_ticket_price called for {destination_city}\")\n",
    "\n",
    "    city = destination_city.lower()\n",
    "\n",
    "    return ticket_prices.get(city, 'unknown')  \n",
    "    # ticket_prices에서 city인자를 키로 가져오면 가격이 'unknown'자리로 반환 함\n",
    "    # 예를 들어 딕셔너리 안에 'london'을 호출하면 '$799'가 호출되고 딕셔너리안에 없는 newyork을 호출하면 기본 값이 'unknown'이 호출됨\n"
   ]
  },
  {
   "cell_type": "code",
   "execution_count": 53,
   "id": "3f2e2958",
   "metadata": {},
   "outputs": [
    {
     "name": "stdout",
     "output_type": "stream",
     "text": [
      "Tool get_ticket_price called for paris\n"
     ]
    },
    {
     "data": {
      "text/plain": [
       "'$899'"
      ]
     },
     "execution_count": 53,
     "metadata": {},
     "output_type": "execute_result"
    }
   ],
   "source": [
    "get_ticket_price('paris')"
   ]
  },
  {
   "cell_type": "code",
   "execution_count": 54,
   "id": "c49a470e",
   "metadata": {},
   "outputs": [],
   "source": [
    "# there's a particular dictionary structure that's required to describe our function:\n",
    "\n",
    "price_function = {\n",
    "    \"name\":\"get_ticket_price\",\n",
    "    \"description\": \"Get the ticket price for a destination city, Call this whenever you need to know the ticket price, for example when a customer asks 'how much is the ticket to the city\",\n",
    "    \"parameters\": {\n",
    "        \"type\": \"object\",\n",
    "        \"properties\": {\n",
    "            \"destination_city\": {\n",
    "                \"type\": \"string\",\n",
    "                \"description\": \"The city that the customer wants to travel to\",\n",
    "            }\n",
    "        },\n",
    "        \"required\": [\"destination_city\"],\n",
    "        \"additionalProperties\":False\n",
    "    }\n",
    "}"
   ]
  },
  {
   "cell_type": "markdown",
   "id": "f9994d91",
   "metadata": {},
   "source": [
    "\"\"\"\n",
    "### OpenAI 함수(도구) 정의 템플릿 상세 설명\n",
    "\n",
    "| 필드 (계층 포함) | 필수 여부 | 설명 |\n",
    "| :--- | :--- | :--- |\n",
    "| `name` | **필수** | 호출될 실제 파이썬 함수의 이름입니다. AI가 이 함수를 호출하기로 결정하면 이 이름을 반환합니다. |\n",
    "| `description` | 권장 (사실상 필수) | **가장 중요한 필드입니다.** AI가 사용자의 말을 듣고 **언제 이 함수를 호출할지 결정하는 핵심 기준**이 됩니다. 명확하고 상세할수록 AI가 더 똑똑하게 작동합니다. |\n",
    "| `parameters` | **필수** | 함수에 전달될 인자(파라미터)들을 정의하는 객체입니다. (JSON Schema 형식) |\n",
    "| ↳ `type` | **필수** | 파라미터 전체를 감싸는 객체의 타입입니다. 일반적으로 항상 `\"object\"`를 사용합니다. |\n",
    "| ↳ `properties` | **필수** | 실제 파라미터들을 정의하는 곳입니다. 각 파라미터의 이름이 키(key)가 됩니다. |\n",
    "| ↳↳ `type` | **필수** | 해당 파라미터의 데이터 타입입니다. (`\"string\"`, `\"number\"`, `\"integer\"`, `\"boolean\"`, `\"array\"`, `\"object\"` 등) |\n",
    "| ↳↳ `description` | 권장 (사실상 필수) | 해당 파라미터에 대한 설명입니다. AI가 사용자의 문장에서 어떤 정보를 추출하여 이 파라미터에 넣을지 결정하는 데 도움을 줍니다. |\n",
    "| ↳↳ `enum` | 선택 사항 | 만약 파라미터의 값이 **정해진 선택지 중 하나**여야 한다면, 여기에 리스트 형태로 선택지를 제공할 수 있습니다. (예: 좌석 등급, 카테고리 등) |\n",
    "| ↳ `required` | **필수** | `properties`에 정의된 파라미터들 중에서 **반드시 필요한 파라미터들의 이름**을 리스트(`list`) 형태로 지정합니다. 이 목록에 있는 정보가 없으면 AI가 함수 호출을 시도하지 않습니다. |\n",
    "\"\"\""
   ]
  },
  {
   "cell_type": "code",
   "execution_count": 55,
   "id": "1d51ba47",
   "metadata": {},
   "outputs": [],
   "source": [
    "tools = [{'type': \"function\",\"function\": price_function}]"
   ]
  },
  {
   "cell_type": "code",
   "execution_count": null,
   "id": "7dead28b",
   "metadata": {},
   "outputs": [],
   "source": [
    "import json\n",
    "\n",
    "# ----------------------------------------------------\n",
    "# 1. 모든 필드를 사용한 함수(도구) 명세서 정의\n",
    "# ----------------------------------------------------\n",
    "pizza_order_tool = {\n",
    "    \"type\": \"function\",\n",
    "    \"function\": {\n",
    "        \"name\": \"order_pizza\",\n",
    "        \"description\": \"피자 주문을 처리합니다. 고객 이름, 피자 사이즈, 수량, 배달 여부를 지정해야 합니다. 토핑과 결제 수단은 선택적으로 지정할 수 있습니다.\",\n",
    "        \"parameters\": {\n",
    "            \"type\": \"object\",\n",
    "            \"properties\": {\n",
    "                \"customer_name\": {\n",
    "                    \"type\": \"string\",\n",
    "                    \"description\": \"주문하는 고객의 이름\"\n",
    "                },\n",
    "                \"size\": {\n",
    "                    \"type\": \"string\",\n",
    "                    \"description\": \"주문할 피자의 사이즈\",\n",
    "                    \"enum\": [\"small\", \"medium\", \"large\", \"x-large\"]\n",
    "                },\n",
    "                \"quantity\": {\n",
    "                    \"type\": \"integer\",\n",
    "                    \"description\": \"주문할 피자의 수량\"\n",
    "                },\n",
    "                \"toppings\": {\n",
    "                    \"type\": \"array\",\n",
    "                    \"items\": {\n",
    "                        \"type\": \"string\"\n",
    "                    },\n",
    "                    \"description\": \"추가하고 싶은 토핑의 목록 (예: ['페퍼로니', '치즈', '올리브'])\"\n",
    "                },\n",
    "                \"is_delivery\": {\n",
    "                    \"type\": \"boolean\",\n",
    "                    \"description\": \"배달 여부를 지정합니다 (true는 배달, false는 매장 픽업)\"\n",
    "                },\n",
    "                \"payment_method\": {\n",
    "                    \"type\": \"string\",\n",
    "                    \"description\": \"결제 수단 (기본값: 'credit_card')\",\n",
    "                    \"enum\": [\"credit_card\", \"cash\"]\n",
    "                }\n",
    "            },\n",
    "            \"required\": [\"customer_name\", \"size\", \"quantity\", \"is_delivery\"]\n",
    "        }\n",
    "    }\n",
    "}\n",
    "\n",
    "\n",
    "# ----------------------------------------------------\n",
    "# 2. 위 명세서에 해당하는 실제 파이썬 함수\n",
    "# ----------------------------------------------------\n",
    "def order_pizza(customer_name: str, \n",
    "                size: str, \n",
    "                quantity: int, \n",
    "                is_delivery: bool, \n",
    "                toppings: list = None, \n",
    "                payment_method: str = \"credit_card\"):\n",
    "    \"\"\"\n",
    "    OpenAI 모델이 호출할 실제 피자 주문 처리 함수입니다.\n",
    "    선택적 파라미터는 기본값을 설정합니다.\n",
    "    \"\"\"\n",
    "    if toppings is None:\n",
    "        toppings = [] # 토핑이 제공되지 않으면 빈 리스트로 처리\n",
    "\n",
    "    order_summary = {\n",
    "        \"고객명\": customer_name,\n",
    "        \"사이즈\": size,\n",
    "        \"수량\": quantity,\n",
    "        \"토핑\": toppings if toppings else \"없음\",\n",
    "        \"배달여부\": \"배달\" if is_delivery else \"매장 픽업\",\n",
    "        \"결제수단\": payment_method\n",
    "    }\n",
    "    \n",
    "    print(\"--- 새로운 주문이 접수되었습니다 ---\")\n",
    "    print(json.dumps(order_summary, indent=2, ensure_ascii=False))\n",
    "    print(\"---------------------------------\")\n",
    "    \n",
    "    return json.dumps(order_summary)\n",
    "\n",
    "# 이 예시는 함수 정의이므로, 실제 챗봇 로직에서 이 함수와 명세서를 사용해야 합니다."
   ]
  },
  {
   "cell_type": "code",
   "execution_count": 59,
   "id": "aa1e4994",
   "metadata": {},
   "outputs": [],
   "source": [
    "def chat(message, history):\n",
    "    messages = [{'role': 'system', 'content' : system_message}]\n",
    "    for human, assistant in history:\n",
    "        messages.append({'role':'user', 'content': human})\n",
    "        messages.append({'role':'assistant', 'content': assistant})\n",
    "    \n",
    "    messages.append({'role':'user', 'content': message})\n",
    "\n",
    "    response = client.chat.completions.create(\n",
    "        model = gpt_model,\n",
    "        messages = messages,\n",
    "        tools = tools # make use tools(price_functions)\n",
    "    )\n",
    "\n",
    "    if response.choices[0].finish_reason ==\"tool_calls\":\n",
    "        message = response.choices[0].message\n",
    "        response, city = handle_tool_call(message)\n",
    "        messages.append(message)\n",
    "        messages.append(response)\n",
    "        response = client.chat.completions.create(\n",
    "            model = gpt_model,\n",
    "            messages = messages\n",
    "        )\n",
    "\n",
    "    return response.choices[0].message.content"
   ]
  },
  {
   "cell_type": "code",
   "execution_count": 60,
   "id": "ebf4206b",
   "metadata": {},
   "outputs": [],
   "source": [
    "# we have to write that fucntion handle_tool_call:\n",
    "\n",
    "def handle_tool_call(message):\n",
    "    tool_call = message.tool_calls[0]\n",
    "    arguments = json.loads(tool_call.function.arguments)\n",
    "    city = arguments.get('destination_city')\n",
    "    price = get_ticket_price(city)\n",
    "    response = {\n",
    "        \"role\": \"tool\",\n",
    "        \"content\":json.dumps({\"destination_city\": city, \"price\": price}),\n",
    "        \"tool_call_id\" : message.tool_calls[0].id\n",
    "    }\n",
    "    return response, city"
   ]
  },
  {
   "cell_type": "code",
   "execution_count": 61,
   "id": "68c14716",
   "metadata": {},
   "outputs": [
    {
     "name": "stderr",
     "output_type": "stream",
     "text": [
      "/opt/anaconda3/envs/udemy_llm/lib/python3.13/site-packages/gradio/chat_interface.py:338: UserWarning: The 'tuples' format for chatbot messages is deprecated and will be removed in a future version of Gradio. Please set type='messages' instead, which uses openai-style 'role' and 'content' keys.\n",
      "  self.chatbot = Chatbot(\n"
     ]
    },
    {
     "name": "stdout",
     "output_type": "stream",
     "text": [
      "* Running on local URL:  http://127.0.0.1:7873\n",
      "* To create a public link, set `share=True` in `launch()`.\n"
     ]
    },
    {
     "data": {
      "text/html": [
       "<div><iframe src=\"http://127.0.0.1:7873/\" width=\"100%\" height=\"500\" allow=\"autoplay; camera; microphone; clipboard-read; clipboard-write;\" frameborder=\"0\" allowfullscreen></iframe></div>"
      ],
      "text/plain": [
       "<IPython.core.display.HTML object>"
      ]
     },
     "metadata": {},
     "output_type": "display_data"
    },
    {
     "data": {
      "text/plain": []
     },
     "execution_count": 61,
     "metadata": {},
     "output_type": "execute_result"
    },
    {
     "name": "stdout",
     "output_type": "stream",
     "text": [
      "Tool get_ticket_price called for Paris\n",
      "Tool get_ticket_price called for Tokyo\n"
     ]
    }
   ],
   "source": [
    "gr.ChatInterface(fn=chat).launch()"
   ]
  },
  {
   "cell_type": "code",
   "execution_count": null,
   "id": "ef69462b",
   "metadata": {},
   "outputs": [],
   "source": []
  }
 ],
 "metadata": {
  "kernelspec": {
   "display_name": "udemy_llm",
   "language": "python",
   "name": "udemy_llm"
  },
  "language_info": {
   "codemirror_mode": {
    "name": "ipython",
    "version": 3
   },
   "file_extension": ".py",
   "mimetype": "text/x-python",
   "name": "python",
   "nbconvert_exporter": "python",
   "pygments_lexer": "ipython3",
   "version": "3.13.2"
  }
 },
 "nbformat": 4,
 "nbformat_minor": 5
}
