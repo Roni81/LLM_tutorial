{
 "cells": [
  {
   "cell_type": "code",
   "execution_count": null,
   "id": "1ed93f8b",
   "metadata": {},
   "outputs": [],
   "source": [
    "import os\n",
    "import dotenv\n"
   ]
  }
 ],
 "metadata": {
  "kernelspec": {
   "display_name": "udemy_llm",
   "language": "python",
   "name": "python3"
  },
  "language_info": {
   "name": "python",
   "version": "3.13.2"
  }
 },
 "nbformat": 4,
 "nbformat_minor": 5
}
